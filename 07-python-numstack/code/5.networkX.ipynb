{
 "cells": [
  {
   "cell_type": "code",
   "execution_count": 4,
   "metadata": {},
   "outputs": [],
   "source": [
    "import numpy as np\n",
    "import networkx as nx\n",
    "import matplotlib.pyplot as plt"
   ]
  },
  {
   "cell_type": "code",
   "execution_count": 5,
   "metadata": {},
   "outputs": [
    {
     "name": "stdout",
     "output_type": "stream",
     "text": [
      "Graph with 5 nodes and 0 edges\n"
     ]
    }
   ],
   "source": [
    "my_graph = nx.Graph()\n",
    "my_graph.add_node(1)\n",
    "my_graph.add_nodes_from([2, 3])\n",
    "my_graph.add_nodes_from([\n",
    "    (4, {\"color\": \"red\"}),\n",
    "    (5, {\"color\": \"green\"}),\n",
    "])\n",
    "print(my_graph)"
   ]
  },
  {
   "cell_type": "code",
   "execution_count": 6,
   "metadata": {},
   "outputs": [
    {
     "data": {
      "image/png": "[encoded data removed]",
      "text/plain": [
       "<Figure size 432x288 with 1 Axes>"
      ]
     },
     "metadata": {},
     "output_type": "display_data"
    }
   ],
   "source": [
    "draw_options = {\n",
    "    \"font_size\": 10,\n",
    "    \"node_size\": 700,\n",
    "    \"node_color\": \"yellow\",\n",
    "    \"edgecolors\": \"black\",\n",
    "    \"linewidths\": 1,\n",
    "    \"width\": 1,\n",
    "    \"with_labels\": True\n",
    "}\n",
    "nx.draw(my_graph, **draw_options)"
   ]
  },
  {
   "cell_type": "code",
   "execution_count": null,
   "metadata": {},
   "outputs": [],
   "source": [
    "graph_other = nx.path_graph(10)\n",
    "nx.draw(graph_other,  **draw_options)"
   ]
  },
  {
   "cell_type": "code",
   "execution_count": null,
   "metadata": {},
   "outputs": [],
   "source": [
    "nx.draw_shell(graph_other, **draw_options)"
   ]
  },
  {
   "cell_type": "code",
   "execution_count": null,
   "metadata": {
    "scrolled": true
   },
   "outputs": [],
   "source": [
    "my_graph.add_edge(1, 2)\n",
    "e = (2, 3)\n",
    "my_graph.add_edge(*e)\n",
    "\n",
    "my_graph.add_edges_from([(1, 2), (1, 3),(2, 3, {'weight': 3.1415})])\n",
    "print(list(my_graph.edges))\n",
    "nx.draw(my_graph,  **draw_options)"
   ]
  },
  {
   "cell_type": "code",
   "execution_count": null,
   "metadata": {},
   "outputs": [],
   "source": [
    "my_graph.clear()"
   ]
  },
  {
   "cell_type": "code",
   "execution_count": null,
   "metadata": {},
   "outputs": [],
   "source": [
    "G = nx.DiGraph()\n",
    "G.add_edge(2, 1)   # adds the nodes in order 2, 1\n",
    "G.add_edge(1, 3)\n",
    "G.add_edge(2, 4)\n",
    "G.add_edge(1, 2)\n",
    "G.add_edge(3, 2)\n",
    "nx.draw(G,  **draw_options)\n"
   ]
  },
  {
   "cell_type": "code",
   "execution_count": null,
   "metadata": {},
   "outputs": [],
   "source": [
    "print(list(G.nodes))\n",
    "print(list(G.edges))\n",
    "print(list(G.neighbors(1))) \n",
    "print(G.out_degree[1])  # the number of edges exiting 1\n",
    "print(G.in_degree[1])   # the number of edges entering 1\n",
    "print(G.degree[1])      # the number of edges incident to 1"
   ]
  },
  {
   "cell_type": "code",
   "execution_count": null,
   "metadata": {},
   "outputs": [],
   "source": [
    "\n",
    "G.add_edge(4,1)\n",
    "G.add_edge(4,5)\n",
    "G.add_edge(5,1)\n",
    "G.add_edge(2,5)\n",
    "G.add_edge(6,5)\n",
    "G.add_edge(1,6)\n",
    "G.add_edge(3,5)\n",
    "G.add_edge(4,6)\n",
    "G.remove_node(3)\n",
    "G.remove_edge(6, 5)\n",
    "nx.draw(G,  **draw_options)"
   ]
  },
  {
   "cell_type": "code",
   "execution_count": null,
   "metadata": {},
   "outputs": [],
   "source": [
    "FG = nx.Graph()\n",
    "FG.add_weighted_edges_from([(1, 2, 0.125), (1, 3, 0.75), (2, 4, 1.2), (3, 4, 0.375)])\n",
    "pos = nx.spring_layout(FG)\n",
    "print(pos)"
   ]
  },
  {
   "cell_type": "code",
   "execution_count": null,
   "metadata": {},
   "outputs": [],
   "source": [
    "nx.draw(FG,pos, **draw_options)\n",
    "nx.draw_networkx_edge_labels(FG, pos, edge_labels=nx.get_edge_attributes(FG,'weight'));"
   ]
  },
  {
   "cell_type": "markdown",
   "metadata": {},
   "source": [
    "## Generate random graph"
   ]
  },
  {
   "cell_type": "code",
   "execution_count": null,
   "metadata": {},
   "outputs": [],
   "source": [
    "def print_graph(G):\n",
    "    for u,v,attr in G.edges.data('weight'):\n",
    "        print(f'node1 = {u}, node2 = {v} , weight = {attr:.3}')\n",
    "\n",
    "def random_weighted_graph(num_of_nodes, probability_of_edge):\n",
    "    G = nx.gnp_random_graph(num_of_nodes, probability_of_edge)  \n",
    "    for (u, v) in G.edges():\n",
    "        G.edges[u,v]['weight'] = np.random.random()\n",
    "    return G\n",
    "\n",
    "G = random_weighted_graph(10,0.3)\n",
    "print(\"G graph:\")\n",
    "print_graph(G)\n",
    "nx.draw(G,  **draw_options)\n"
   ]
  },
  {
   "cell_type": "code",
   "execution_count": null,
   "metadata": {},
   "outputs": [],
   "source": [
    "H = random_weighted_graph(10, 0.3)  # create graph with 10 nodes; probability of each edge is 0.3\n",
    "print(\"\\nH graph:\")\n",
    "print_graph(H)\n",
    "nx.draw(H,  **draw_options)"
   ]
  },
  {
   "cell_type": "code",
   "execution_count": null,
   "metadata": {},
   "outputs": [],
   "source": [
    "GC = nx.complement(G)  # every non-edge becomes an edge and vice-versa\n",
    "nx.draw(GC,  **draw_options)"
   ]
  },
  {
   "cell_type": "code",
   "execution_count": null,
   "metadata": {},
   "outputs": [],
   "source": [
    "K_6 = nx.complete_graph(6)                  # Returns the complete graph K_n with n nodes.\n",
    "nx.draw(K_6,  **draw_options)"
   ]
  },
  {
   "cell_type": "code",
   "execution_count": null,
   "metadata": {},
   "outputs": [],
   "source": [
    "barbell = nx.barbell_graph(10, 10)          # Returns the Barbell Graph: two complete graphs connected by a path.\n",
    "nx.draw(barbell,  **draw_options)"
   ]
  },
  {
   "cell_type": "code",
   "execution_count": null,
   "metadata": {},
   "outputs": [],
   "source": [
    "\n",
    "lollipop = nx.lollipop_graph(10, 20)        # Returns the Lollipop Graph; K_m connected to P_n.\n",
    "nx.draw(lollipop,  **draw_options)"
   ]
  },
  {
   "cell_type": "code",
   "execution_count": null,
   "metadata": {},
   "outputs": [],
   "source": [
    "ws = nx.watts_strogatz_graph(30, 3, 0.1)    # Returns a Watts–Strogatz small-world graph.\n",
    "nx.draw(ws,  **draw_options)"
   ]
  },
  {
   "cell_type": "code",
   "execution_count": null,
   "metadata": {},
   "outputs": [],
   "source": [
    "ba = nx.barabasi_albert_graph(100, 5)       # Returns a random graph according to the Barabási–Albert preferential attachment model.\n",
    "nx.draw(ba,  **draw_options)"
   ]
  },
  {
   "cell_type": "code",
   "execution_count": null,
   "metadata": {},
   "outputs": [],
   "source": [
    "red = nx.random_lobster(20, 0.5, 0.5)      # Returns a random lobster graph.\n",
    "nx.draw(red,  **draw_options)"
   ]
  },
  {
   "cell_type": "code",
   "execution_count": null,
   "metadata": {},
   "outputs": [],
   "source": [
    "size = 10\n",
    "G = random_weighted_graph(size, 0.4) \n",
    "nx.draw_shell(G, **draw_options)"
   ]
  },
  {
   "cell_type": "markdown",
   "metadata": {},
   "source": [
    "## Graph algorithms"
   ]
  },
  {
   "cell_type": "code",
   "execution_count": null,
   "metadata": {},
   "outputs": [],
   "source": [
    "#~~~~~~~~~~~~~~~~~~~~~~~~~~~~~~~~~~~~~~~~~~~~~~~~~~~~~~~~~~~~~\n",
    "# shortest paths and path lengths between nodes in the graph.\n",
    "# These algorithms work with undirected and directed graphs\n",
    "#~~~~~~~~~~~~~~~~~~~~~~~~~~~~~~~~~~~~~~~~~~~~~~~~~~~~~~~~~~~~\n",
    "source = 0\n",
    "target = size -1\n",
    "print('~~~shortest path~~~')\n",
    "print(nx.shortest_path(G)) # returns dictionary of shortest paths\n",
    "print(nx.has_path(G, source, target)) # boolean\n"
   ]
  },
  {
   "cell_type": "code",
   "execution_count": null,
   "metadata": {},
   "outputs": [],
   "source": [
    "#~~~~~~~~~~~~~~~~~~~~~~~~~~~~~~~~~~~~~~~~~~~~~~\n",
    "# Shortest path algorithms for weighted graphs.\n",
    "#~~~~~~~~~~~~~~~~~~~~~~~~~~~~~~~~~~~~~~~~~~~~~~\n",
    "print('\\n~~~weighted graph~~~')\n",
    "#dijkstra\n",
    "print(nx.dijkstra_predecessor_and_distance(G, source)) # returns dictionary of shortest path \n",
    "print(nx.dijkstra_path(G, source, target ))  # returns list\n",
    "# Floyd Warshall\n",
    "print(nx.floyd_warshall_numpy(G)) # returns a numpy array\n"
   ]
  },
  {
   "cell_type": "code",
   "execution_count": null,
   "metadata": {},
   "outputs": [],
   "source": [
    "cycle = nx.find_cycle(G)\n",
    "print(cycle)\n",
    "nx.draw_shell(nx.Graph(cycle), **draw_options)"
   ]
  },
  {
   "cell_type": "code",
   "execution_count": null,
   "metadata": {},
   "outputs": [],
   "source": [
    "max_weight_matching = nx.max_weight_matching(G)\n",
    "print(max_weight_matching)\n",
    "nx.draw_shell(nx.Graph(max_weight_matching) , **draw_options)"
   ]
  },
  {
   "cell_type": "markdown",
   "metadata": {},
   "source": [
    "## Bipartite graphs\n",
    "\n",
    "There is no \"bipartite graph\" class in networkx; there are functions that treat a standard networkx.Graph as a bipartite graph."
   ]
  },
  {
   "cell_type": "code",
   "execution_count": null,
   "metadata": {},
   "outputs": [],
   "source": [
    "K_3_5 = nx.complete_bipartite_graph(3, 5)   # Returns the complete bipartite graph with sides of size 3 and 5.\n",
    "nx.draw(K_3_5,  **draw_options)"
   ]
  },
  {
   "cell_type": "code",
   "execution_count": null,
   "metadata": {},
   "outputs": [],
   "source": [
    "left_nodes, right_nodes = nx.bipartite.sets(K_3_5)\n",
    "print(\"left_nodes\",left_nodes,\"right_nodes\",right_nodes)\n",
    "nx.draw(K_3_5,  **draw_options, pos=nx.bipartite_layout(K_3_5, left_nodes))"
   ]
  },
  {
   "cell_type": "markdown",
   "metadata": {},
   "source": [
    "\n",
    "But there is a catch: how can the system know what are the two parts?"
   ]
  },
  {
   "cell_type": "code",
   "execution_count": null,
   "metadata": {},
   "outputs": [],
   "source": [
    "G = nx.Graph()\n",
    "G.add_edges_from([(1,2),(1,3),(4,2), (5,6),(5,7),(8,7)])\n",
    "nx.draw(G,  **draw_options)"
   ]
  },
  {
   "cell_type": "code",
   "execution_count": null,
   "metadata": {},
   "outputs": [],
   "source": [
    "\n",
    "left_nodes, right_nodes = nx.bipartite.sets(G) # Error: AmbiguousSolution\n",
    "nx.draw(G,  **draw_options, pos=nx.bipartite_layout(G, left_nodes))  "
   ]
  },
  {
   "cell_type": "code",
   "execution_count": null,
   "metadata": {},
   "outputs": [],
   "source": [
    "# left_nodes, right_nodes = nx.bipartite.sets(G) # Error: AmbiguousSolution\n",
    "left_nodes, right_nodes = [ [1,4,5,8], [2,3,6,7] ] \n",
    "nx.draw(G,  **draw_options, pos=nx.bipartite_layout(G, left_nodes))"
   ]
  },
  {
   "cell_type": "code",
   "execution_count": null,
   "metadata": {},
   "outputs": [],
   "source": [
    "\n",
    "left_nodes, right_nodes = [ [2,3,5,8], [1,4,6,7] ] \n",
    "nx.draw(G,  **draw_options, pos=nx.bipartite_layout(G, left_nodes))"
   ]
  },
  {
   "cell_type": "code",
   "execution_count": null,
   "metadata": {},
   "outputs": [],
   "source": [
    "max_matching = nx.bipartite.maximum_matching(K_3_5)\n",
    "print(max_matching)\n",
    "left_nodes, right_nodes = nx.bipartite.sets(K_3_5)\n",
    "nx.draw(nx.Graph(max_matching.items()),  **draw_options, pos=nx.bipartite_layout(K_3_5, left_nodes))"
   ]
  },
  {
   "cell_type": "code",
   "execution_count": null,
   "metadata": {},
   "outputs": [],
   "source": [
    "max_matching = nx.bipartite.maximum_matching(G) # Error: AmbiguousSolution"
   ]
  },
  {
   "cell_type": "code",
   "execution_count": null,
   "metadata": {},
   "outputs": [],
   "source": [
    "left_nodes = [1,4,5,8]\n",
    "max_matching = nx.bipartite.maximum_matching(G, left_nodes) \n",
    "nx.draw(nx.Graph(max_matching.items()),  **draw_options, pos=nx.bipartite_layout(G,left_nodes))"
   ]
  },
  {
   "cell_type": "code",
   "execution_count": null,
   "metadata": {},
   "outputs": [],
   "source": [
    "left_nodes = [1,4,6,7]\n",
    "max_matching = nx.bipartite.maximum_matching(G, left_nodes) \n",
    "nx.draw(nx.Graph(max_matching.items()),  **draw_options, pos=nx.bipartite_layout(G,left_nodes))"
   ]
  },
  {
   "attachments": {},
   "cell_type": "markdown",
   "metadata": {},
   "source": [
    "### Bipartite graph with weights"
   ]
  },
  {
   "cell_type": "code",
   "execution_count": null,
   "metadata": {},
   "outputs": [],
   "source": [
    "for e in G.edges:\n",
    "\tweight = np.random.randint(1,100)\n",
    "\tprint(e, weight)\n",
    "\tG[e[0]][e[1]][\"weight\"]=G[e[1]][e[0]][\"weight\"]=weight"
   ]
  },
  {
   "cell_type": "code",
   "execution_count": null,
   "metadata": {},
   "outputs": [],
   "source": [
    "left_nodes = [1,4,6,7]\n",
    "pos = nx.bipartite_layout(G, left_nodes)\n",
    "nx.draw(G,  **draw_options, pos=pos)\n",
    "nx.draw_networkx_edge_labels(G, pos, edge_labels=nx.get_edge_attributes(G,'weight'));"
   ]
  },
  {
   "cell_type": "code",
   "execution_count": null,
   "metadata": {},
   "outputs": [],
   "source": [
    "max_weight_matching = nx.max_weight_matching(G) \n",
    "max_weight_matching_graph = nx.Graph(max_weight_matching)\n",
    "nx.draw(max_weight_matching_graph,  **draw_options, pos=pos)\n",
    "nx.draw_networkx_edge_labels(max_weight_matching_graph, pos, edge_labels=nx.get_edge_attributes(G,'weight'));"
   ]
  },
  {
   "cell_type": "code",
   "execution_count": null,
   "metadata": {},
   "outputs": [],
   "source": []
  }
 ],
 "metadata": {
  "kernelspec": {
   "display_name": "Python 3",
   "language": "python",
   "name": "python3"
  },
  "language_info": {
   "codemirror_mode": {
    "name": "ipython",
    "version": 3
   },
   "file_extension": ".py",
   "mimetype": "text/x-python",
   "name": "python",
   "nbconvert_exporter": "python",
   "pygments_lexer": "ipython3",
   "version": "3.8.10"
  },
  "vscode": {
   "interpreter": {
    "hash": "31f2aee4e71d21fbe5cf8b01ff0e069b9275f58929596ceb00d14d90e3e16cd6"
   }
  }
 },
 "nbformat": 4,
 "nbformat_minor": 4
}
